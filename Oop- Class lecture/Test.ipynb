{
 "cells": [
  {
   "cell_type": "code",
   "id": "initial_id",
   "metadata": {
    "collapsed": true,
    "ExecuteTime": {
     "end_time": "2024-11-13T08:30:05.954497Z",
     "start_time": "2024-11-13T08:30:05.938984Z"
    }
   },
   "source": [
    "from numpy.testing.print_coercion_tables import print_new_cast_table\n",
    "\n",
    "# This is a simple variable assignment in Python\n",
    "\n",
    "mi = 35.0\n",
    "print(mi)\n",
    "if mi.is_integer():\n",
    "    print(str(mi) + 'is  an integer')\n",
    "else:\n",
    "    print(str(mi) + 'is not an integer')\n",
    "    "
   ],
   "outputs": [
    {
     "name": "stdout",
     "output_type": "stream",
     "text": [
      "35.0\n",
      "35.0is  an integer\n"
     ]
    }
   ],
   "execution_count": 3
  },
  {
   "metadata": {
    "ExecuteTime": {
     "end_time": "2024-11-13T08:34:58.125345Z",
     "start_time": "2024-11-13T08:34:58.114141Z"
    }
   },
   "cell_type": "code",
   "source": [
    "a = 5\n",
    "b = a\n",
    "print('The number a is ' + str(a))\n",
    "print('The number b is ' + str(b))\n",
    "print()\n",
    "\n",
    "a= 3 \n",
    "print('The number a is ' + str(a))\n",
    "print('The number b is ' + str(b))"
   ],
   "id": "441f19245a30a7aa",
   "outputs": [
    {
     "name": "stdout",
     "output_type": "stream",
     "text": [
      "The number a is 5\n",
      "The number b is 5\n",
      "\n",
      "The number a is 3\n",
      "The number b is 5\n"
     ]
    }
   ],
   "execution_count": 6
  },
  {
   "metadata": {
    "ExecuteTime": {
     "end_time": "2024-11-13T08:50:30.295068Z",
     "start_time": "2024-11-13T08:50:30.282950Z"
    }
   },
   "cell_type": "code",
   "source": [
    "# How to work with random numbers\n",
    "\n",
    "import random\n",
    "random.seed()\n",
    "\n",
    "a = random.gauss(5,4.5)\n",
    "b = random.gauss(9,3.3)\n",
    "\n",
    "c = a + b\n",
    "print(\"The equation is:\",a,\"+\",b,\"=\",c)"
   ],
   "id": "858e04bfe7c8e719",
   "outputs": [
    {
     "name": "stdout",
     "output_type": "stream",
     "text": [
      "The equation is: 11.163991484955375 + 11.734697729513572 = 22.898689214468945\n"
     ]
    }
   ],
   "execution_count": 7
  },
  {
   "metadata": {
    "ExecuteTime": {
     "end_time": "2024-11-13T09:12:14.023225Z",
     "start_time": "2024-11-13T09:12:14.014364Z"
    }
   },
   "cell_type": "code",
   "source": [
    "# Intro to for loops\n",
    "\n",
    "for ii in 12,-4,-6.5,20,7:\n",
    "    if ii*ii > 1300:\n",
    "        break\n",
    "    print(\"Number:\",ii,\"Squared: \",ii*ii)"
   ],
   "id": "7e36b1fef5491d95",
   "outputs": [
    {
     "name": "stdout",
     "output_type": "stream",
     "text": [
      "Number: 12 Squared:  144\n",
      "Number: -4 Squared:  16\n",
      "Number: -6.5 Squared:  42.25\n",
      "Number: 20 Squared:  400\n",
      "Number: 7 Squared:  49\n"
     ]
    }
   ],
   "execution_count": 9
  },
  {
   "metadata": {
    "ExecuteTime": {
     "end_time": "2024-11-13T09:17:21.616582Z",
     "start_time": "2024-11-13T09:17:21.607266Z"
    }
   },
   "cell_type": "code",
   "source": [
    "# Use range for loop statement\n",
    "for ii in range(2,15,2):\n",
    "        print(\"Number:\",ii,\"Squared: \",ii*ii)\n",
    "\n",
    "print()\n",
    "\n",
    "for ii in range(-2,15,2):\n",
    "      print(\"Number:\",ii)\n",
    "\n",
    "\n",
    "    "
   ],
   "id": "a7fd9e3b1c489566",
   "outputs": [
    {
     "name": "stdout",
     "output_type": "stream",
     "text": [
      "Number: 2 Squared:  4\n",
      "Number: 4 Squared:  16\n",
      "Number: 6 Squared:  36\n",
      "Number: 8 Squared:  64\n",
      "Number: 10 Squared:  100\n",
      "Number: 12 Squared:  144\n",
      "Number: 14 Squared:  196\n",
      "\n",
      "Number: -2\n",
      "Number: 0\n",
      "Number: 2\n",
      "Number: 4\n",
      "Number: 6\n",
      "Number: 8\n",
      "Number: 10\n",
      "Number: 12\n",
      "Number: 14\n"
     ]
    }
   ],
   "execution_count": 16
  },
  {
   "metadata": {
    "ExecuteTime": {
     "end_time": "2024-11-13T09:25:39.814910Z",
     "start_time": "2024-11-13T09:25:39.804590Z"
    }
   },
   "cell_type": "code",
   "source": [
    "#Introduction to a while loop\n",
    "import random\n",
    "random.seed()\n",
    "\n",
    "#Initialization of the counter variable\n",
    "sum = 0\n",
    "\n",
    "while sum < 50:\n",
    "    rnumber =random.randint(1,8)\n",
    "    sum = sum + rnumber\n",
    "    \n",
    "    if sum > 50:\n",
    "        break\n",
    "    print(\"Number:\",rnumber,\"and number sumed is:\",sum)\n",
    "    \n",
    "        \n",
    "     "
   ],
   "id": "192a74be9d66d63",
   "outputs": [
    {
     "name": "stdout",
     "output_type": "stream",
     "text": [
      "Number: 7 and number sumed is: 7\n",
      "Number: 6 and number sumed is: 13\n",
      "Number: 3 and number sumed is: 16\n",
      "Number: 4 and number sumed is: 20\n",
      "Number: 1 and number sumed is: 21\n",
      "Number: 8 and number sumed is: 29\n",
      "Number: 4 and number sumed is: 33\n",
      "Number: 8 and number sumed is: 41\n",
      "Number: 1 and number sumed is: 42\n",
      "Number: 7 and number sumed is: 49\n"
     ]
    }
   ],
   "execution_count": 21
  },
  {
   "metadata": {
    "ExecuteTime": {
     "end_time": "2024-11-13T10:10:52.434518Z",
     "start_time": "2024-11-13T10:10:52.119537Z"
    }
   },
   "cell_type": "code",
   "source": [
    "# Data analysis  \n",
    "\n",
    "import numpy as np\n",
    "import matplotlib.pyplot as plt\n",
    "\n",
    "# Parameters for the Gaussian distribution\n",
    "mu = 0      # Mean\n",
    "sigma = 15   # Standard deviation\n",
    "num_samples = 10000  # Number of random samples\n",
    "\n",
    "# Generate random data samples with a Gaussian distribution\n",
    "data = np.random.uniform(mu, sigma, num_samples)\n",
    "\n",
    "# Create the histogram plot\n",
    "plt.hist(data, bins='auto', color='skyblue', edgecolor='black', alpha=0.7)\n",
    "\n",
    "# Adding titles and labels\n",
    "plt.title(f\"Histogram of {num_samples} Random Samples from a Gaussian Distribution (μ={mu}, σ={sigma})\")\n",
    "plt.xlabel(\"Value\")\n",
    "plt.ylabel(\"Frequency\")\n",
    "plt.grid(True)\n",
    "\n",
    "# Save the plot as a PNG file\n",
    "plt.savefig('gaussian_histogram.png', dpi=300)  # Save with high resolution\n",
    "\n",
    "# Show the plot (optional)\n",
    "plt.show()"
   ],
   "id": "de79c8dc04483ba6",
   "outputs": [
    {
     "data": {
      "text/plain": [
       "<Figure size 640x480 with 1 Axes>"
      ],
      "image/png": "[encoded data removed]"
     },
     "metadata": {},
     "output_type": "display_data"
    }
   ],
   "execution_count": 29
  }
 ],
 "metadata": {
  "kernelspec": {
   "display_name": "Python 3",
   "language": "python",
   "name": "python3"
  },
  "language_info": {
   "codemirror_mode": {
    "name": "ipython",
    "version": 2
   },
   "file_extension": ".py",
   "mimetype": "text/x-python",
   "name": "python",
   "nbconvert_exporter": "python",
   "pygments_lexer": "ipython2",
   "version": "2.7.6"
  }
 },
 "nbformat": 4,
 "nbformat_minor": 5
}
